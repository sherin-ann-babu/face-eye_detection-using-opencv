{
 "cells": [
  {
   "cell_type": "code",
   "execution_count": 2,
   "metadata": {},
   "outputs": [],
   "source": [
    "import cv2"
   ]
  },
  {
   "cell_type": "code",
   "execution_count": 3,
   "metadata": {},
   "outputs": [],
   "source": [
    "img = cv2.imread('data/group.jpg')"
   ]
  },
  {
   "cell_type": "code",
   "execution_count": 4,
   "metadata": {},
   "outputs": [
    {
     "data": {
      "text/plain": [
       "array([[[241, 230, 232],\n",
       "        [241, 230, 232],\n",
       "        [241, 230, 232],\n",
       "        ...,\n",
       "        [255, 250, 239],\n",
       "        [255, 249, 238],\n",
       "        [255, 249, 238]],\n",
       "\n",
       "       [[241, 230, 232],\n",
       "        [241, 230, 232],\n",
       "        [241, 230, 232],\n",
       "        ...,\n",
       "        [255, 250, 239],\n",
       "        [255, 249, 238],\n",
       "        [255, 249, 238]],\n",
       "\n",
       "       [[241, 230, 232],\n",
       "        [241, 230, 232],\n",
       "        [241, 230, 232],\n",
       "        ...,\n",
       "        [255, 250, 239],\n",
       "        [255, 250, 239],\n",
       "        [255, 249, 238]],\n",
       "\n",
       "       ...,\n",
       "\n",
       "       [[ 47,  38,  25],\n",
       "        [ 36,  27,  17],\n",
       "        [ 25,  16,   6],\n",
       "        ...,\n",
       "        [ 58,  56, 115],\n",
       "        [ 61,  59, 118],\n",
       "        [ 63,  61, 120]],\n",
       "\n",
       "       [[ 36,  27,  14],\n",
       "        [ 35,  26,  13],\n",
       "        [ 32,  23,  13],\n",
       "        ...,\n",
       "        [ 54,  54, 108],\n",
       "        [ 54,  54, 108],\n",
       "        [ 54,  54, 108]],\n",
       "\n",
       "       [[ 26,  15,   1],\n",
       "        [ 32,  23,  10],\n",
       "        [ 40,  31,  18],\n",
       "        ...,\n",
       "        [ 51,  52, 103],\n",
       "        [ 50,  51, 102],\n",
       "        [ 49,  50, 101]]], dtype=uint8)"
      ]
     },
     "execution_count": 4,
     "metadata": {},
     "output_type": "execute_result"
    }
   ],
   "source": [
    "img"
   ]
  },
  {
   "cell_type": "code",
   "execution_count": 5,
   "metadata": {},
   "outputs": [],
   "source": [
    "cv2.imshow('image',img)\n",
    "cv2.waitKey()\n",
    "cv2.destroyAllWindows()"
   ]
  },
  {
   "cell_type": "code",
   "execution_count": 6,
   "metadata": {},
   "outputs": [],
   "source": [
    "#face detect --- using haarcascade method - trained to detect human face\n",
    "\n",
    "face_cascade = cv2.CascadeClassifier('data/haarcascade_frontalface_default.xml')"
   ]
  },
  {
   "cell_type": "code",
   "execution_count": 7,
   "metadata": {},
   "outputs": [
    {
     "data": {
      "text/plain": [
       "< cv2.CascadeClassifier 0x7fe7a13ce5b0>"
      ]
     },
     "execution_count": 7,
     "metadata": {},
     "output_type": "execute_result"
    }
   ],
   "source": [
    "face_cascade"
   ]
  },
  {
   "cell_type": "code",
   "execution_count": 8,
   "metadata": {},
   "outputs": [],
   "source": [
    "#to detect eye\n",
    "\n",
    "eye_cascade = cv2.CascadeClassifier('data/haarcascade_eye.xml')"
   ]
  },
  {
   "cell_type": "code",
   "execution_count": 9,
   "metadata": {},
   "outputs": [
    {
     "data": {
      "text/plain": [
       "< cv2.CascadeClassifier 0x7fe7a13ce510>"
      ]
     },
     "execution_count": 9,
     "metadata": {},
     "output_type": "execute_result"
    }
   ],
   "source": [
    "eye_cascade"
   ]
  },
  {
   "cell_type": "code",
   "execution_count": 10,
   "metadata": {},
   "outputs": [],
   "source": [
    "#convert image to gray\n",
    "gray_img = cv2.cvtColor(img,cv2.COLOR_BGR2GRAY)"
   ]
  },
  {
   "cell_type": "code",
   "execution_count": 11,
   "metadata": {},
   "outputs": [],
   "source": [
    "faces = face_cascade.detectMultiScale(gray_img)"
   ]
  },
  {
   "cell_type": "code",
   "execution_count": 12,
   "metadata": {},
   "outputs": [],
   "source": [
    "eyes = eye_cascade.detectMultiScale(gray_img)"
   ]
  },
  {
   "cell_type": "code",
   "execution_count": 14,
   "metadata": {},
   "outputs": [],
   "source": [
    "# loop over all the detected faces\n",
    "for (x,y,w,h) in faces:\n",
    "\n",
    "   # To draw a rectangle around the detected face  \n",
    "   cv2.rectangle(img,pt1=(x,y),pt2=(x+w,y+h),color=(255,0,0),thickness=2)"
   ]
  },
  {
   "cell_type": "code",
   "execution_count": 13,
   "metadata": {},
   "outputs": [],
   "source": [
    "# loop over all the detected eyes\n",
    "for (ex,ey,ew,eh) in eyes:\n",
    "\n",
    "   # To draw a rectangle around the detected eyes \n",
    "   cv2.rectangle(img,pt1=(ex,ey),pt2=(ex+ew,ey+eh),color=(0,255,0),thickness=2)"
   ]
  },
  {
   "cell_type": "code",
   "execution_count": null,
   "metadata": {},
   "outputs": [],
   "source": [
    "cv2.imshow('image',img)\n",
    "cv2.waitKey(5000)\n",
    "cv2.destroyAllWindows()"
   ]
  }
 ],
 "metadata": {
  "kernelspec": {
   "display_name": "Python 3",
   "language": "python",
   "name": "python3"
  },
  "language_info": {
   "codemirror_mode": {
    "name": "ipython",
    "version": 3
   },
   "file_extension": ".py",
   "mimetype": "text/x-python",
   "name": "python",
   "nbconvert_exporter": "python",
   "pygments_lexer": "ipython3",
   "version": "3.8.10"
  },
  "orig_nbformat": 4
 },
 "nbformat": 4,
 "nbformat_minor": 2
}
