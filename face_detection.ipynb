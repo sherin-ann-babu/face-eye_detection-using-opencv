{
 "cells": [
  {
   "cell_type": "code",
   "execution_count": 11,
   "metadata": {},
   "outputs": [],
   "source": [
    "import cv2"
   ]
  },
  {
   "cell_type": "code",
   "execution_count": 12,
   "metadata": {},
   "outputs": [],
   "source": [
    "img = cv2.imread('data/group.jpg')"
   ]
  },
  {
   "cell_type": "code",
   "execution_count": 13,
   "metadata": {},
   "outputs": [
    {
     "data": {
      "text/plain": [
       "array([[[241, 230, 232],\n",
       "        [241, 230, 232],\n",
       "        [241, 230, 232],\n",
       "        ...,\n",
       "        [255, 250, 239],\n",
       "        [255, 249, 238],\n",
       "        [255, 249, 238]],\n",
       "\n",
       "       [[241, 230, 232],\n",
       "        [241, 230, 232],\n",
       "        [241, 230, 232],\n",
       "        ...,\n",
       "        [255, 250, 239],\n",
       "        [255, 249, 238],\n",
       "        [255, 249, 238]],\n",
       "\n",
       "       [[241, 230, 232],\n",
       "        [241, 230, 232],\n",
       "        [241, 230, 232],\n",
       "        ...,\n",
       "        [255, 250, 239],\n",
       "        [255, 250, 239],\n",
       "        [255, 249, 238]],\n",
       "\n",
       "       ...,\n",
       "\n",
       "       [[ 47,  38,  25],\n",
       "        [ 36,  27,  17],\n",
       "        [ 25,  16,   6],\n",
       "        ...,\n",
       "        [ 58,  56, 115],\n",
       "        [ 61,  59, 118],\n",
       "        [ 63,  61, 120]],\n",
       "\n",
       "       [[ 36,  27,  14],\n",
       "        [ 35,  26,  13],\n",
       "        [ 32,  23,  13],\n",
       "        ...,\n",
       "        [ 54,  54, 108],\n",
       "        [ 54,  54, 108],\n",
       "        [ 54,  54, 108]],\n",
       "\n",
       "       [[ 26,  15,   1],\n",
       "        [ 32,  23,  10],\n",
       "        [ 40,  31,  18],\n",
       "        ...,\n",
       "        [ 51,  52, 103],\n",
       "        [ 50,  51, 102],\n",
       "        [ 49,  50, 101]]], dtype=uint8)"
      ]
     },
     "execution_count": 13,
     "metadata": {},
     "output_type": "execute_result"
    }
   ],
   "source": [
    "img"
   ]
  },
  {
   "cell_type": "code",
   "execution_count": 14,
   "metadata": {},
   "outputs": [],
   "source": [
    "cv2.imshow('image',img)\n",
    "cv2.waitKey()\n",
    "cv2.destroyAllWindows()"
   ]
  },
  {
   "cell_type": "code",
   "execution_count": 15,
   "metadata": {},
   "outputs": [],
   "source": [
    "#face detect --- using haarcascade method - trained to detect human face\n",
    "\n",
    "face_cascade = cv2.CascadeClassifier('data/haarcascade_frontalface_default.xml')"
   ]
  },
  {
   "cell_type": "code",
   "execution_count": 16,
   "metadata": {},
   "outputs": [
    {
     "data": {
      "text/plain": [
       "< cv2.CascadeClassifier 0x7f4a9437bc30>"
      ]
     },
     "execution_count": 16,
     "metadata": {},
     "output_type": "execute_result"
    }
   ],
   "source": [
    "face_cascade"
   ]
  },
  {
   "cell_type": "code",
   "execution_count": 17,
   "metadata": {},
   "outputs": [],
   "source": [
    "#convert image to gray\n",
    "gray_img = cv2.cvtColor(img,cv2.COLOR_BGR2GRAY)"
   ]
  },
  {
   "cell_type": "code",
   "execution_count": 18,
   "metadata": {},
   "outputs": [],
   "source": [
    "faces = face_cascade.detectMultiScale(gray_img)\n"
   ]
  },
  {
   "cell_type": "code",
   "execution_count": 19,
   "metadata": {},
   "outputs": [
    {
     "data": {
      "text/plain": [
       "8"
      ]
     },
     "execution_count": 19,
     "metadata": {},
     "output_type": "execute_result"
    }
   ],
   "source": [
    "len(faces)"
   ]
  },
  {
   "cell_type": "code",
   "execution_count": 20,
   "metadata": {},
   "outputs": [
    {
     "data": {
      "text/plain": [
       "array([[196,  57,  75,  75],\n",
       "       [401,  57,  96,  96],\n",
       "       [323, 130,  74,  74],\n",
       "       [123, 184,  68,  68],\n",
       "       [224, 211,  91,  91],\n",
       "       [440, 242,  88,  88],\n",
       "       [288, 283,  72,  72],\n",
       "       [348, 264,  82,  82]], dtype=int32)"
      ]
     },
     "execution_count": 20,
     "metadata": {},
     "output_type": "execute_result"
    }
   ],
   "source": [
    "faces"
   ]
  },
  {
   "cell_type": "code",
   "execution_count": 24,
   "metadata": {},
   "outputs": [],
   "source": [
    "# loop over all the detected faces\n",
    "for (x,y,w,h) in faces:\n",
    "\n",
    "   # To draw a rectangle around the detected face  \n",
    "   cv2.rectangle(img,pt1=(x,y),pt2=(x+w,y+h),color=(255,0,0),thickness=2)"
   ]
  },
  {
   "cell_type": "code",
   "execution_count": null,
   "metadata": {},
   "outputs": [],
   "source": []
  },
  {
   "cell_type": "code",
   "execution_count": 25,
   "metadata": {},
   "outputs": [],
   "source": [
    "cv2.imshow('image',img)\n",
    "cv2.waitKey(5000)\n",
    "cv2.destroyAllWindows()"
   ]
  },
  {
   "cell_type": "code",
   "execution_count": null,
   "metadata": {},
   "outputs": [],
   "source": [
    "#new image checking\n"
   ]
  }
 ],
 "metadata": {
  "kernelspec": {
   "display_name": "Python 3",
   "language": "python",
   "name": "python3"
  },
  "language_info": {
   "codemirror_mode": {
    "name": "ipython",
    "version": 3
   },
   "file_extension": ".py",
   "mimetype": "text/x-python",
   "name": "python",
   "nbconvert_exporter": "python",
   "pygments_lexer": "ipython3",
   "version": "3.8.10"
  },
  "orig_nbformat": 4
 },
 "nbformat": 4,
 "nbformat_minor": 2
}
